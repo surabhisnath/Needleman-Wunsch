{
 "cells": [
  {
   "cell_type": "code",
   "execution_count": 8,
   "metadata": {},
   "outputs": [],
   "source": [
    "# Surabhi S Nath\n",
    "# 2016271"
   ]
  },
  {
   "cell_type": "code",
   "execution_count": 9,
   "metadata": {},
   "outputs": [],
   "source": [
    "import numpy as np\n",
    "import string \n",
    "import random"
   ]
  },
  {
   "cell_type": "code",
   "execution_count": 10,
   "metadata": {},
   "outputs": [],
   "source": [
    "def print_mat(mat):\n",
    "    # Print the edit distance matrix\n",
    "    for i in range(len(mat)):\n",
    "        for j in range(len(mat[0])):\n",
    "            print(mat[i, j], end=\" \")\n",
    "        print()"
   ]
  },
  {
   "cell_type": "markdown",
   "metadata": {},
   "source": [
    "## Part 2 - Scores multiplied by -1"
   ]
  },
  {
   "cell_type": "code",
   "execution_count": 11,
   "metadata": {},
   "outputs": [],
   "source": [
    "def find_alignment(a, b, mat, info):\n",
    "    #print_mat(mat)\n",
    "    match, mismatch, gap = info\n",
    "    modifieda = \"\"\n",
    "    i = len(a)\n",
    "    j = len(b)\n",
    "    a = \" \"+a\n",
    "    b = \" \"+b\n",
    "    \n",
    "    # Find alignment by back tracking till the your the 0,0 cell\n",
    "    while(i>0 or j>0):\n",
    "        source = mat[i, j]\n",
    "        \n",
    "        if i>=1 and j>=1:\n",
    "            neighbour1 = mat[i-1, j-1]\n",
    "            if source - neighbour1 == match:\n",
    "                assert(a[i] == b[j])\n",
    "                # Copy the entry directly as they match\n",
    "                modifieda = b[j] + modifieda\n",
    "                i = i - 1\n",
    "                j = j - 1\n",
    "                continue\n",
    "            elif source - neighbour1 == mismatch:\n",
    "                # Substitute an entry of the first string with the entry in the second string\n",
    "                modifieda = b[j] + modifieda\n",
    "                i = i - 1\n",
    "                j = j - 1\n",
    "                continue\n",
    "    \n",
    "        if i>=1:\n",
    "            neighbour2 = mat[i-1, j] #delete\n",
    "            # Delete an entry from the first string\n",
    "            if source - neighbour2 == gap:\n",
    "                i = i - 1\n",
    "                continue\n",
    "        \n",
    "        if j>=1:\n",
    "            neighbour3 = mat[i, j-1] #insert\n",
    "            # Insert a gap in the first string\n",
    "            if source - neighbour3 == gap:\n",
    "                modifieda =  \"_\" + modifieda                \n",
    "                j = j - 1\n",
    "                continue  \n",
    "\n",
    "    return modifieda"
   ]
  },
  {
   "cell_type": "code",
   "execution_count": 12,
   "metadata": {},
   "outputs": [],
   "source": [
    "def edit_distance_modified(a, b, info):\n",
    "    match, mismatch, gap = info\n",
    "    lena = len(a)\n",
    "    lenb = len(b)\n",
    "    \n",
    "    # Make a matrix of (length of a) + 1 by (length of b) + 1 to incorporate null string\n",
    "    mat = np.zeros(shape=(lena+1, lenb+1))\n",
    "    \n",
    "    for i in range(0, lena+1):\n",
    "        for j in range(0, lenb+1):\n",
    "            if(i == 0):\n",
    "                # If one of the strings is null, mat simpy stores the column number/row number\n",
    "                mat[i,j] = j*gap\n",
    "\n",
    "            elif(j == 0):\n",
    "                # If one of the strings is null, mat simpy stores the column number/row number\n",
    "                mat[i,j] = i*gap\n",
    "\n",
    "            elif(a[i-1] == b[j-1]):\n",
    "                # No cost if match\n",
    "                mat[i,j] = mat[i-1,j-1] + match\n",
    "            \n",
    "            else:\n",
    "                # Perform the best of either deleteion or insertion or substitution\n",
    "                mat[i,j] = min(mat[i-1,j-1] + mismatch, mat[i-1,j] + gap, mat[i,j-1] + gap)\n",
    "    \n",
    "    #print_mat(mat)\n",
    "    edit_distance = mat[lena, lenb]\n",
    "    alignment = find_alignment(a, b, mat, [match, mismatch, gap])\n",
    "    return (int(edit_distance), alignment)"
   ]
  },
  {
   "cell_type": "code",
   "execution_count": 13,
   "metadata": {},
   "outputs": [
    {
     "name": "stdout",
     "output_type": "stream",
     "text": [
      "Enter the first string\n",
      "A\n",
      "Enter the second string\n",
      "BBB\n",
      "Score: 3\n",
      "Alignment: __B\n"
     ]
    }
   ],
   "source": [
    "print(\"Enter the first string\")\n",
    "one = input()\n",
    "print(\"Enter the second string\")\n",
    "two = input()\n",
    "# Note: the first string is changed into the second string\n",
    "match, mismatch, gap = -2.0, -1.0, 2.0\n",
    "score, alignment = edit_distance_modified(one, two, [match, mismatch, gap])\n",
    "print(\"Score:\", score)\n",
    "print(\"Alignment:\", alignment)"
   ]
  },
  {
   "cell_type": "code",
   "execution_count": null,
   "metadata": {},
   "outputs": [],
   "source": []
  }
 ],
 "metadata": {
  "kernelspec": {
   "display_name": "Python 3",
   "language": "python",
   "name": "python3"
  },
  "language_info": {
   "codemirror_mode": {
    "name": "ipython",
    "version": 3
   },
   "file_extension": ".py",
   "mimetype": "text/x-python",
   "name": "python",
   "nbconvert_exporter": "python",
   "pygments_lexer": "ipython3",
   "version": "3.5.2"
  }
 },
 "nbformat": 4,
 "nbformat_minor": 2
}
